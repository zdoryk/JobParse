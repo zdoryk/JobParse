{
 "cells": [
  {
   "cell_type": "markdown",
   "source": [
    "# Explorer"
   ],
   "metadata": {
    "collapsed": false
   }
  },
  {
   "cell_type": "markdown",
   "source": [
    "## Importing and defining constants"
   ],
   "metadata": {
    "collapsed": false
   }
  },
  {
   "cell_type": "code",
   "execution_count": 34,
   "outputs": [],
   "source": [
    "import pandas as pd"
   ],
   "metadata": {
    "collapsed": false,
    "ExecuteTime": {
     "end_time": "2023-06-09T08:39:54.525712Z",
     "start_time": "2023-06-09T08:39:54.505936Z"
    }
   }
  },
  {
   "cell_type": "code",
   "execution_count": 35,
   "outputs": [],
   "source": [
    "df = pd.read_xml('test.xml', parser='etree')"
   ],
   "metadata": {
    "collapsed": false,
    "ExecuteTime": {
     "end_time": "2023-06-09T08:39:55.202897Z",
     "start_time": "2023-06-09T08:39:54.509439Z"
    }
   }
  },
  {
   "cell_type": "code",
   "execution_count": 36,
   "outputs": [
    {
     "data": {
      "text/plain": "id                        object\ntitle                     object\nupdated      datetime64[ns, UTC]\npublished    datetime64[ns, UTC]\nsummary                   object\ndtype: object"
     },
     "execution_count": 36,
     "metadata": {},
     "output_type": "execute_result"
    }
   ],
   "source": [
    "job_offers_df = df[9:][['id', 'title','updated', 'published', 'summary']]\n",
    "# Change the datatype of updated and published from object to datetime\n",
    "job_offers_df['updated'] = pd.to_datetime(job_offers_df['updated'])\n",
    "job_offers_df['published'] = pd.to_datetime(job_offers_df['published'])\n",
    "\n",
    "job_offers_df.dtypes"
   ],
   "metadata": {
    "collapsed": false,
    "ExecuteTime": {
     "end_time": "2023-06-09T08:39:55.253533Z",
     "start_time": "2023-06-09T08:39:55.204274Z"
    }
   }
  },
  {
   "cell_type": "code",
   "execution_count": 37,
   "outputs": [
    {
     "data": {
      "text/plain": "updated\n5    9909\n6    4945\n4      59\nName: count, dtype: int64"
     },
     "execution_count": 37,
     "metadata": {},
     "output_type": "execute_result"
    }
   ],
   "source": [
    "# Min value of updated\n",
    "job_offers_df['updated'].min()\n",
    "\n",
    "# Count how many records for each month\n",
    "job_offers_df['updated'].dt.month.value_counts()"
   ],
   "metadata": {
    "collapsed": false,
    "ExecuteTime": {
     "end_time": "2023-06-09T08:39:55.253775Z",
     "start_time": "2023-06-09T08:39:55.244499Z"
    }
   }
  },
  {
   "cell_type": "code",
   "execution_count": 37,
   "outputs": [],
   "source": [],
   "metadata": {
    "collapsed": false,
    "ExecuteTime": {
     "end_time": "2023-06-09T08:39:55.253845Z",
     "start_time": "2023-06-09T08:39:55.249002Z"
    }
   }
  }
 ],
 "metadata": {
  "kernelspec": {
   "display_name": "Python 3",
   "language": "python",
   "name": "python3"
  },
  "language_info": {
   "codemirror_mode": {
    "name": "ipython",
    "version": 2
   },
   "file_extension": ".py",
   "mimetype": "text/x-python",
   "name": "python",
   "nbconvert_exporter": "python",
   "pygments_lexer": "ipython2",
   "version": "2.7.6"
  }
 },
 "nbformat": 4,
 "nbformat_minor": 0
}
